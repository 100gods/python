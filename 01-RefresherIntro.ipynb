{
 "cells": [
  {
   "cell_type": "markdown",
   "metadata": {},
   "source": [
    "# Refresher Introduction to Python"
   ]
  },
  {
   "cell_type": "markdown",
   "metadata": {},
   "source": [
    "A 5-min whirlwind refresher to the language"
   ]
  },
  {
   "cell_type": "markdown",
   "metadata": {},
   "source": [
    "### What and why"
   ]
  },
  {
   "cell_type": "markdown",
   "metadata": {},
   "source": [
    "  - interpreted (not compiled)\n",
    "  - object-oriented\n",
    "  - high-level\n",
    "  - dynamic semantics (aka execution semantics)\n",
    "  - fully dynamic typing\n",
    "  - dynamic binding\n",
    "\n",
    "\n",
    "  - quick development\n",
    "  - simple, readable, easy to learn syntax\n",
    "  - general purpose\n",
    "  - low program manteinance cost\n",
    "  - modularity and code reuse\n",
    "  - no licensing costs\n",
    "  - extensive standard library, \"batteries included\"\n",
    "  - imperative and functional programming\n",
    "  - automatic memory management (garbage-collected)"
   ]
  },
  {
   "cell_type": "markdown",
   "metadata": {},
   "source": [
    "* Around 25 years old\n",
    "* Versioning:\n",
    "    * 2 parallel version streams\n",
    "    * 2.x is fully-backward compatible\n",
    "    * 3.x fixes some design, performance flaws\n",
    "    * ... but breaks backward-compatibility\n",
    "\n",
    "\n",
    "* **We'll be using 2.7.10+ for the training**"
   ]
  },
  {
   "cell_type": "markdown",
   "metadata": {},
   "source": [
    "#### Expressions"
   ]
  },
  {
   "cell_type": "code",
   "execution_count": 3,
   "metadata": {
    "collapsed": false
   },
   "outputs": [
    {
     "name": "stdout",
     "output_type": "stream",
     "text": [
      "8\n"
     ]
    },
    {
     "data": {
      "text/plain": [
       "'HelloWorld'"
      ]
     },
     "execution_count": 3,
     "metadata": {},
     "output_type": "execute_result"
    }
   ],
   "source": [
    "print (3+ 5)\n",
    "3 + (5*4)\n",
    "3 ** 2\n",
    "'Hello' + 'World'"
   ]
  },
  {
   "cell_type": "code",
   "execution_count": 21,
   "metadata": {
    "collapsed": true
   },
   "outputs": [],
   "source": [
    "a = 4 << 3\n",
    "b = a * 4.5\n",
    "c = (a+b)/2.5\n",
    "a = \"Hello World\""
   ]
  },
  {
   "cell_type": "markdown",
   "metadata": {},
   "source": [
    "* Variables are dynamically typed (No explicit typing, types may change during execution).\n",
    "* Variables are just names for an object. Not tied to a memory location like in C"
   ]
  },
  {
   "cell_type": "markdown",
   "metadata": {},
   "source": [
    "#### Conditionals"
   ]
  },
  {
   "cell_type": "code",
   "execution_count": 31,
   "metadata": {
    "collapsed": false
   },
   "outputs": [
    {
     "name": "stdout",
     "output_type": "stream",
     "text": [
      "2<3\n"
     ]
    }
   ],
   "source": [
    "type(a)\n",
    "# documents or help\n",
    "#a.capitalize??\n",
    "print('2<3' if 2!=3 else '2>3')"
   ]
  },
  {
   "cell_type": "code",
   "execution_count": 38,
   "metadata": {
    "collapsed": false
   },
   "outputs": [
    {
     "data": {
      "text/plain": [
       "5"
      ]
     },
     "execution_count": 38,
     "metadata": {},
     "output_type": "execute_result"
    }
   ],
   "source": [
    "# Compute maximum (z) of a and b\n",
    "a= 3\n",
    "b=5\n",
    "z=101\n",
    "if a < b:\n",
    "    z = b\n",
    "else:\n",
    "    z = a\n",
    "    \n",
    "# empty body-block\n",
    "if a < b:\n",
    "    pass       # Do nothing\n",
    "else: \n",
    "    z= a\n",
    "z"
   ]
  },
  {
   "cell_type": "markdown",
   "metadata": {},
   "source": [
    "* Indentation used to denote bodies. \n",
    "* pass used to denote an empty body.\n",
    "* There is no ’?:’ operator."
   ]
  },
  {
   "cell_type": "markdown",
   "metadata": {},
   "source": [
    "#### elif"
   ]
  },
  {
   "cell_type": "code",
   "execution_count": null,
   "metadata": {
    "collapsed": false
   },
   "outputs": [],
   "source": [
    "if a == '+':\n",
    "    op = PLUS\n",
    "elif a == '-':\n",
    "    op = MINUS\n",
    "elif a == '*':\n",
    "    op = MULTIPLY\n",
    "else:\n",
    "    op = UNKNOWN"
   ]
  },
  {
   "cell_type": "markdown",
   "metadata": {},
   "source": [
    "There's no switch statement"
   ]
  },
  {
   "cell_type": "markdown",
   "metadata": {},
   "source": [
    "#### Conditionals"
   ]
  },
  {
   "cell_type": "code",
   "execution_count": 41,
   "metadata": {
    "collapsed": false
   },
   "outputs": [
    {
     "name": "stdout",
     "output_type": "stream",
     "text": [
      "b is between a and c\n",
      "b is still between a and c\n"
     ]
    }
   ],
   "source": [
    "a=1\n",
    "b=2\n",
    "c=3\n",
    "if b >= a and b <= c:\n",
    "    print (\"b is between a and c\")\n",
    "if not (b < a or b > c):\n",
    "    print (\"b is still between a and c\")"
   ]
  },
  {
   "cell_type": "markdown",
   "metadata": {},
   "source": [
    "#### Numbers"
   ]
  },
  {
   "cell_type": "code",
   "execution_count": null,
   "metadata": {
    "collapsed": true
   },
   "outputs": [],
   "source": [
    "a = 3              # Integer\n",
    "b = 4.5            # Floating point\n",
    "c = 517288833333L  # Long integer (arbitrary precision)\n",
    "d = 4 + 3j         # Complex (imaginary) number"
   ]
  },
  {
   "cell_type": "markdown",
   "metadata": {},
   "source": [
    "#### Strings"
   ]
  },
  {
   "cell_type": "code",
   "execution_count": 43,
   "metadata": {
    "collapsed": false
   },
   "outputs": [],
   "source": [
    "a = 'Hello'\n",
    "b = \"World\"\n",
    "c = \"Bob said ’hey there.’\"  # A mix of both\n",
    "d = '''A triple quoted string\n",
    "can span multiple lines\n",
    "like this'''\n",
    "e = \"\"\"Also works for double quotes\"\"\"\n",
    "\n",
    "'''\n",
    "Will add any two number for freeeee !!!\n",
    "'''\n",
    "def mySum(x,y):\n",
    "    return x+y"
   ]
  },
  {
   "cell_type": "code",
   "execution_count": 45,
   "metadata": {
    "collapsed": false
   },
   "outputs": [
    {
     "name": "stdout",
     "output_type": "stream",
     "text": [
      "Help on function mySum in module __main__:\n",
      "\n",
      "mySum(x, y)\n",
      "\n"
     ]
    }
   ],
   "source": [
    "help(mySum)"
   ]
  },
  {
   "cell_type": "markdown",
   "metadata": {},
   "source": [
    "#### Lists"
   ]
  },
  {
   "cell_type": "code",
   "execution_count": null,
   "metadata": {
    "collapsed": true
   },
   "outputs": [],
   "source": [
    "a = [2, 3, 4]               # A list of integers\n",
    "b = [2, 7, 3.5, \"Hello\"]    # A mixed list\n",
    "c = []                      # An empty list\n",
    "d = [2, [a,b]]              # A list containing a list\n",
    "e = a + b                   # Join two lists"
   ]
  },
  {
   "cell_type": "markdown",
   "metadata": {},
   "source": [
    "#### List: acessing elements"
   ]
  },
  {
   "cell_type": "code",
   "execution_count": 105,
   "metadata": {
    "collapsed": false
   },
   "outputs": [
    {
     "name": "stdout",
     "output_type": "stream",
     "text": [
      "[0, 1, 2, 3, 4, 5, 6, 7, 8, 9]\n",
      "[9, 8, 7, 6, 5, 4, 3, 2, 1, 0]\n",
      "A triple quoted string\n",
      "can span multiple lines\n",
      "like this\n"
     ]
    }
   ],
   "source": [
    "a=range(10)\n",
    "type(a)\n",
    "a=list(a)\n",
    "#print(a)\n",
    "#print(a[1:-1])\n",
    "#print(a[1:5:2]) #setp size is 2\n",
    "#print(a[1::2])\n",
    "#print(a[::2])\n",
    "a[0:2]+a[2:]\n",
    "a[:]+[11]\n",
    "print(a)\n",
    "a.sort()\n",
    "a.reverse()\n",
    "print(a)\n",
    "a.remove(0)\n",
    "a\n",
    "a.count(1)\n",
    "a.index(1)\n",
    "b=a\n",
    "print(d)"
   ]
  },
  {
   "cell_type": "code",
   "execution_count": 114,
   "metadata": {
    "collapsed": false
   },
   "outputs": [
    {
     "name": "stdout",
     "output_type": "stream",
     "text": [
      "[[1, 2, 3], [5, 6, 7, 8]]\n",
      "1\n"
     ]
    }
   ],
   "source": [
    "a=list(range(10))\n",
    "b=a[:-4]\n",
    "d=[list(range(1,4)),list(range(5,9))]\n",
    "x = a[1]          # Get 2nd element (0 is first)\n",
    "y = b[1:3]        # Return a sublist\n",
    "z = d[0][0]   # Nested lists\n",
    "b[0] = 42         # Change an element\n",
    "\n",
    "print(d)\n",
    "print(z)\n"
   ]
  },
  {
   "cell_type": "markdown",
   "metadata": {},
   "source": [
    "#### Tuples"
   ]
  },
  {
   "cell_type": "code",
   "execution_count": 146,
   "metadata": {
    "collapsed": false
   },
   "outputs": [
    {
     "name": "stdout",
     "output_type": "stream",
     "text": [
      "1\n",
      "2\n",
      "4\n",
      "5\n",
      "7\n",
      "8\n",
      "hi\n"
     ]
    },
    {
     "data": {
      "text/plain": [
       "True"
      ]
     },
     "execution_count": 146,
     "metadata": {},
     "output_type": "execute_result"
    }
   ],
   "source": [
    "#print(a)\n",
    "for i in range(len(a)):\n",
    "    pass\n",
    "    #print(a[i])\n",
    "\n",
    "d=[list(range(1,3)),list(range(4,6)),list(range(7,9)),\"hi\"]\n",
    "for elm in d:\n",
    "    #print(elm)\n",
    "    if type(elm) != type(\"string\"):\n",
    "        for elm2 in elm:\n",
    "            print(elm2)\n",
    "    elif type(elm) == type([]):\n",
    "        print (elm)\n",
    "    else:\n",
    "        print(elm)\n"
   ]
  },
  {
   "cell_type": "code",
   "execution_count": 169,
   "metadata": {
    "collapsed": false
   },
   "outputs": [
    {
     "name": "stdout",
     "output_type": "stream",
     "text": [
      "[0, 1, 4, 9, 16, 25, 36, 49, 64]\n",
      "36\n",
      "[1, 2, 3, 4, 5, 6, 7, 8, 9]\n"
     ]
    },
    {
     "data": {
      "text/plain": [
       "240"
      ]
     },
     "execution_count": 169,
     "metadata": {},
     "output_type": "execute_result"
    }
   ],
   "source": [
    "a=list(range(9))\n",
    "#i=0\n",
    "print(list(map(lambda i : i*i,a))) # square of list\n",
    "print(sum(a))\n",
    "b=list(map(lambda i : i+1,a))\n",
    "print(b)\n",
    "# sum of product \n",
    "sum(map(lambda i,j:i*j,a,b))"
   ]
  },
  {
   "cell_type": "code",
   "execution_count": 202,
   "metadata": {
    "collapsed": false
   },
   "outputs": [
    {
     "name": "stdout",
     "output_type": "stream",
     "text": [
      "sum of prod = 480\n"
     ]
    }
   ],
   "source": [
    "c=list(map(lambda i: 2,a))\n",
    "def sop(a,b,c=list(range(100))):\n",
    "    return sum(map(lambda i,j,z:i*j*z,a,b,c))\n",
    "\n",
    "print(\"sum of prod =\",sop(a,b,c))"
   ]
  },
  {
   "cell_type": "code",
   "execution_count": 207,
   "metadata": {
    "collapsed": false
   },
   "outputs": [
    {
     "name": "stdout",
     "output_type": "stream",
     "text": [
      "func sum = 480\n",
      "lambda sum = 480\n",
      "lambda as ref sum = 480\n",
      "<class 'function'>\n"
     ]
    }
   ],
   "source": [
    "def prod(i):\n",
    "    return i[0]*i[1]*i[2]\n",
    "lam = lambda x:x[0]* x[1]*x[2]\n",
    "print(\"func sum =\",sum(map(prod, list(zip(a,b,c)))))\n",
    "print(\"lambda sum =\",sum(map(lambda i : i[0]*i[1]*i[2], list(zip(a,b,c)))))\n",
    "print(\"lambda as ref sum =\",sum(map(lam, list(zip(a,b,c)))))\n",
    "print(type(lam))"
   ]
  },
  {
   "cell_type": "code",
   "execution_count": 219,
   "metadata": {
    "collapsed": false
   },
   "outputs": [
    {
     "data": {
      "text/plain": [
       "[('Hi', '=', 2),\n",
       " ('How', '=', 3),\n",
       " ('are', '=', 3),\n",
       " ('you', '=', 3),\n",
       " ('Sita', '=', 4),\n",
       " ('I', '=', 1),\n",
       " ('am', '=', 2),\n",
       " ('fine', '=', 4),\n",
       " ('Ram', '=', 3)]"
      ]
     },
     "execution_count": 219,
     "metadata": {},
     "output_type": "execute_result"
    }
   ],
   "source": [
    "#List of string count lengthof each string\n",
    "myList=[\"Hi\",\"How\",\"are\",\"you\",\"Sita\",\"I\",\"am\",\"fine\",\"Ram\"]\n",
    "lenCount= lambda word : (word,len(word))\n",
    "list(map(lambda elm: (elm,\"=\",len(elm)),myList))\n"
   ]
  },
  {
   "cell_type": "code",
   "execution_count": 268,
   "metadata": {
    "collapsed": false
   },
   "outputs": [
    {
     "data": {
      "text/plain": [
       "1"
      ]
     },
     "execution_count": 268,
     "metadata": {},
     "output_type": "execute_result"
    }
   ],
   "source": [
    "text=\"\"\n",
    "for line in open('input.txt'):\n",
    "    #print(line)\n",
    "    text+=line.strip()\n",
    "    #print(list(map(lenCount,line.strip().split())))\n",
    "\n",
    "#print(text)\n",
    "from collections import Counter\n",
    "#word count\n",
    "dict(Counter(text.split()))['we']\n",
    "Counter(text.split()).most_common()"
   ]
  },
  {
   "cell_type": "code",
   "execution_count": 306,
   "metadata": {
    "collapsed": false
   },
   "outputs": [
    {
     "data": {
      "text/plain": [
       "'Pakistan’s<^>top<^>Foreign<^>Affairs<^>Advisor<^>Sartaj<^>Aziz<^>said<^>Islamabad’s<^>credentials<^>for<^>the<^>membership<^>of<^>Nuclear<^>Suppliers<^>Group<^>(NSG)<^>are<^>stronger<^>than<^>India’s<^>if<^>the<^>48-nation<^>cartel<^>agrees<^>to<^>form<^>a<^>uniform<^>criteria<^>for<^>non-Non<^>Proliferation<^>Treaty<^>(NPT)<^>states.In<^>an<^>exclusive<^>interview<^>with<^>DawnNews<^>on<^>Sunday,<^>Mr.<^>Aziz<^>said<^>Pakistan<^>has<^>diplomatically<^>engaged<^>numerous<^>countries<^>over<^>the<^>criteria-based<^>approach<^>for<^>non-NPT<^>countries.“If<^>the<^>group<^>forms<^>such<^>a<^>uniform<^>criteria,<^>then<^>Pakistan<^>has<^>stronger<^>credentials<^>for<^>NSG<^>membership<^>than<^>India,”<^>the<^>advisor<^>said.“Our<^>strategy<^>was<^>to<^>apply<^>after<^>India<^>did,<^>after<^>which<^>we<^>would<^>have<^>immediately<^>followed.<^>We<^>have<^>had<^>our<^>application<^>in<^>an<^>advance<^>state<^>of<^>readiness<^>for<^>the<^>past<^>three<^>months<^>for<^>this<^>purpose,”<^>Mr.<^>Aziz<^>said.He<^>claimed<^>that<^>Pakistan<^>has<^>gradually<^>gathered<^>support<^>for<^>the<^>criteria<^>based<^>approach.He<^>expressed<^>hope<^>that,<^>due<^>to<^>Pakistan’s<^>efforts<^>and<^>its<^>strong<^>credentials,<^>if<^>India<^>gains<^>entry<^>into<^>the<^>club,<^>Pakistan<^>will<^>not<^>be<^>left<^>behind.The<^>advisor<^>said<^>Pakistan<^>has<^>come<^>a<^>long<^>way<^>since<^>then<^>and<^>everyone<^>has<^>witnessed<^>Islamabad<^>safeguarding<^>its<^>nuclear<^>assets.“If<^>you<^>compare<^>it<^>with<^>India,<^>when<^>our<^>neighbouring<^>country<^>conducted<^>a<^>nuclear<^>test<^>in<^>1974,<^>it<^>misused<^>the<^>nuclear<^>supplies<^>given<^>to<^>it<^>for<^>peaceful<^>purposes,<^>which<^>led<^>to<^>the<^>formation<^>of<^>NSG.<^>After<^>that<^>nuclear<^>fissile<^>material<^>was<^>stolen<^>from<^>India,<^>but<^>such<^>an<^>instance<^>has<^>never<^>occurred<^>in<^>Pakistan,”<^>Mr.<^>Aziz<^>said.The<^>NSG,<^>which<^>was<^>created<^>in<^>response<^>to<^>India’s<^>first<^>nuclear<^>test<^>in<^>1974,<^>is<^>expected<^>to<^>hold<^>its<^>next<^>meeting<^>in<^>June.The<^>NSG<^>is<^>a<^>48-nation<^>club<^>dedicated<^>to<^>curbing<^>nuclear<^>arms<^>proliferation<^>by<^>controlling<^>the<^>export<^>and<^>re-transfer<^>of<^>materials<^>that<^>could<^>foster<^>nuclear<^>weapons<^>development.'"
      ]
     },
     "execution_count": 306,
     "metadata": {},
     "output_type": "execute_result"
    }
   ],
   "source": [
    "# Reduce count total words in file\n",
    "freq=0\n",
    "from functools import reduce as meraReduce\n",
    "meraReduce(lambda x, y: x+y, [1, 2, 3, 4, 5])\n",
    "#meraReduce(lambda word,word1: word[1]+word1[1],dict(Counter(text.split())).keyviews())\n",
    "# reduce on string\n",
    "meraReduce(lambda wordPrev,wordNext: wordPrev+\"<^>\"+wordNext, text.split())\n"
   ]
  },
  {
   "cell_type": "code",
   "execution_count": 308,
   "metadata": {
    "collapsed": false
   },
   "outputs": [
    {
     "data": {
      "text/plain": [
       "[('Pakistan', 5), ('India', 2)]"
      ]
     },
     "execution_count": 308,
     "metadata": {},
     "output_type": "execute_result"
    }
   ],
   "source": [
    "#filter \n",
    "#list(filter(lambda word : word in [\"India\",\"Pakistan\"],text.split()))\n",
    "dict(Counter(text.split()))\n",
    "#list(map(lambda word: word,dict(Counter(text.split())).items()))\n",
    "\n",
    "list(filter(lambda word: word[0] in [\"India\",\"Pakistan\"],dict(Counter(text.split())).items()))\n",
    "filterList=[\"India\",\"Pakistan\"]\n",
    "list(map(lambda counter:counter,Counter(text.split()).most_common()))\n",
    "list(filter(lambda counter:counter[0] in filterList,list(Counter(text.split()).most_common())))\n"
   ]
  },
  {
   "cell_type": "code",
   "execution_count": 337,
   "metadata": {
    "collapsed": false
   },
   "outputs": [
    {
     "name": "stdout",
     "output_type": "stream",
     "text": [
      "[8, 5]\n"
     ]
    },
    {
     "data": {
      "text/plain": [
       "13"
      ]
     },
     "execution_count": 337,
     "metadata": {},
     "output_type": "execute_result"
    }
   ],
   "source": [
    "# filter and count the length\n",
    "fil=list(filter(lambda counter : counter[0] in filterList,list(Counter(text.split()).most_common())))\n",
    "wordLen=list(map(lambda counter:len(counter[0]),fil)) # _ is the last command run\n",
    "#print(wordLen)\n",
    "meraReduce(lambda x,y:x+y,wordLen)"
   ]
  },
  {
   "cell_type": "code",
   "execution_count": 348,
   "metadata": {
    "collapsed": false
   },
   "outputs": [
    {
     "data": {
      "text/plain": [
       "2"
      ]
     },
     "execution_count": 348,
     "metadata": {},
     "output_type": "execute_result"
    }
   ],
   "source": [
    "f = (2,3,4,5)                # A tuple of integers\n",
    "g = (1,)                      # An empty tuple\n",
    "h = (1,)                     # A single-element tuple\n",
    "h = (2, [3,4], (10,11,12))   # A tuple containing mixed objects\n",
    "text.split().count('India')"
   ]
  },
  {
   "cell_type": "markdown",
   "metadata": {},
   "source": [
    "#### Tuple: Accessing elements"
   ]
  },
  {
   "cell_type": "code",
   "execution_count": null,
   "metadata": {
    "collapsed": true
   },
   "outputs": [],
   "source": [
    "x = f[1]        # Element access. x = 3\n",
    "y = f[1:3]      # Slices. y = (3,4)\n",
    "z = h[1][1]     # Nesting. z = 4"
   ]
  },
  {
   "cell_type": "markdown",
   "metadata": {},
   "source": [
    "#### Dict"
   ]
  },
  {
   "cell_type": "code",
   "execution_count": null,
   "metadata": {
    "collapsed": true
   },
   "outputs": [],
   "source": [
    "a= { }                 # An empty dictionary\n",
    "b = { 'x': 3, 'y': 4 }\n",
    "c = { 'uid': 106, \n",
    "     'login': 'ash',\n",
    "     'name' : 'Ashish Gulati'\n",
    "    }"
   ]
  },
  {
   "cell_type": "markdown",
   "metadata": {},
   "source": [
    "#### Dict access"
   ]
  },
  {
   "cell_type": "code",
   "execution_count": null,
   "metadata": {
    "collapsed": true
   },
   "outputs": [],
   "source": [
    "u = c[’uid’]                # Get an element\n",
    "c[’shell’] = \"/bin/sh\"      # Set an element\n",
    "if c.has_key(\"directory\"):  # Check for presence of an member\n",
    "    d = c[’directory’]\n",
    "else:\n",
    "    d = None\n",
    "\n",
    "d = c.get(\"directory\",None) # Same thing, more compact"
   ]
  },
  {
   "cell_type": "markdown",
   "metadata": {},
   "source": [
    "#### while loop"
   ]
  },
  {
   "cell_type": "code",
   "execution_count": null,
   "metadata": {
    "collapsed": false
   },
   "outputs": [],
   "source": [
    "a=1; b=10\n",
    "while a < b:\n",
    "    # Do something\n",
    "    a = a + 1"
   ]
  },
  {
   "cell_type": "markdown",
   "metadata": {},
   "source": [
    "#### for loop"
   ]
  },
  {
   "cell_type": "code",
   "execution_count": null,
   "metadata": {
    "collapsed": true
   },
   "outputs": [],
   "source": [
    "for i in [3, 4, 10, 25]:\n",
    "    print i\n",
    "\n",
    "# Print characters one at a time\n",
    "for c in \"Hello World\":\n",
    "    print c\n",
    "\n",
    "# Loop over a range of numbers\n",
    "for i in range(0,100):\n",
    "    print i"
   ]
  },
  {
   "cell_type": "markdown",
   "metadata": {},
   "source": [
    "No `for (i=0; i<10; i++)` loop"
   ]
  },
  {
   "cell_type": "markdown",
   "metadata": {},
   "source": [
    "#### Functions"
   ]
  },
  {
   "cell_type": "code",
   "execution_count": null,
   "metadata": {
    "collapsed": true
   },
   "outputs": [],
   "source": [
    "# Return the remainder of a/b\n",
    "def remainder(a,b):\n",
    "    q = a/b\n",
    "    r = a - q*b\n",
    "    return r\n",
    "\n",
    "# Now use it\n",
    "a = remainder(42,5)        # a = 2"
   ]
  },
  {
   "cell_type": "markdown",
   "metadata": {},
   "source": [
    "#### Returning multiple values"
   ]
  },
  {
   "cell_type": "code",
   "execution_count": null,
   "metadata": {
    "collapsed": true
   },
   "outputs": [],
   "source": [
    "def divide(a,b):\n",
    "    q = a/b\n",
    "    r = a - q*b\n",
    "    return q,r\n",
    "\n",
    "x,y = divide(42,5)       # x = 8, y = 2"
   ]
  },
  {
   "cell_type": "markdown",
   "metadata": {},
   "source": [
    "#### Classes"
   ]
  },
  {
   "cell_type": "code",
   "execution_count": null,
   "metadata": {
    "collapsed": true
   },
   "outputs": [],
   "source": [
    "class Account:\n",
    "    def __init__(self, initial):\n",
    "        self.balance = initial\n",
    "    def deposit(self, amt):\n",
    "        self.balance = self.balance + amt\n",
    "    def withdraw(self,amt):\n",
    "        self.balance = self.balance - amt\n",
    "    def getbalance(self):\n",
    "        return self.balance"
   ]
  },
  {
   "cell_type": "markdown",
   "metadata": {},
   "source": [
    "#### Creating instances"
   ]
  },
  {
   "cell_type": "code",
   "execution_count": null,
   "metadata": {
    "collapsed": false
   },
   "outputs": [],
   "source": [
    "a = Account(1000.00)\n",
    "a.deposit(550.23)\n",
    "a.deposit(100)\n",
    "a.withdraw(50)\n",
    "print a.getbalance()"
   ]
  },
  {
   "cell_type": "markdown",
   "metadata": {},
   "source": [
    "#### Exceptions"
   ]
  },
  {
   "cell_type": "code",
   "execution_count": null,
   "metadata": {
    "collapsed": false
   },
   "outputs": [],
   "source": [
    "try:\n",
    "    f = open(\"foo\")\n",
    "except IOError:\n",
    "    print \"Couldn’t open ’foo’. Sorry.\""
   ]
  },
  {
   "cell_type": "markdown",
   "metadata": {},
   "source": [
    "#### Raising exceptions"
   ]
  },
  {
   "cell_type": "code",
   "execution_count": null,
   "metadata": {
    "collapsed": true
   },
   "outputs": [],
   "source": [
    "def factorial(n):\n",
    "    if n < 0:\n",
    "        raise ValueError,\"Expected non-negative number\"\n",
    "    if (n <= 1):\n",
    "        return 1\n",
    "    else:\n",
    "        return n*factorial(n-1)"
   ]
  },
  {
   "cell_type": "code",
   "execution_count": 344,
   "metadata": {
    "collapsed": false
   },
   "outputs": [
    {
     "ename": "NameError",
     "evalue": "name 'factorial' is not defined",
     "output_type": "error",
     "traceback": [
      "\u001b[1;31m---------------------------------------------------------------------------\u001b[0m",
      "\u001b[1;31mNameError\u001b[0m                                 Traceback (most recent call last)",
      "\u001b[1;32m<ipython-input-344-456c1b35b1cf>\u001b[0m in \u001b[0;36m<module>\u001b[1;34m()\u001b[0m\n\u001b[1;32m----> 1\u001b[1;33m \u001b[0mfactorial\u001b[0m\u001b[1;33m(\u001b[0m\u001b[1;33m-\u001b[0m\u001b[1;36m1\u001b[0m\u001b[1;33m)\u001b[0m\u001b[1;33m\u001b[0m\u001b[0m\n\u001b[0m",
      "\u001b[1;31mNameError\u001b[0m: name 'factorial' is not defined"
     ]
    }
   ],
   "source": [
    "factorial(-1)"
   ]
  },
  {
   "cell_type": "markdown",
   "metadata": {},
   "source": [
    "#### File I/O"
   ]
  },
  {
   "cell_type": "code",
   "execution_count": 340,
   "metadata": {
    "collapsed": false
   },
   "outputs": [
    {
     "ename": "FileNotFoundError",
     "evalue": "[Errno 2] No such file or directory: 'bar'",
     "output_type": "error",
     "traceback": [
      "\u001b[1;31m---------------------------------------------------------------------------\u001b[0m",
      "\u001b[1;31mFileNotFoundError\u001b[0m                         Traceback (most recent call last)",
      "\u001b[1;32m<ipython-input-340-34fa53e5c11d>\u001b[0m in \u001b[0;36m<module>\u001b[1;34m()\u001b[0m\n\u001b[0;32m      1\u001b[0m \u001b[0mf\u001b[0m \u001b[1;33m=\u001b[0m \u001b[0mopen\u001b[0m\u001b[1;33m(\u001b[0m\u001b[1;34m\"foo\"\u001b[0m\u001b[1;33m,\u001b[0m\u001b[1;34m\"w\"\u001b[0m\u001b[1;33m)\u001b[0m       \u001b[1;31m# Open a file for writing\u001b[0m\u001b[1;33m\u001b[0m\u001b[0m\n\u001b[1;32m----> 2\u001b[1;33m \u001b[0mg\u001b[0m \u001b[1;33m=\u001b[0m \u001b[0mopen\u001b[0m\u001b[1;33m(\u001b[0m\u001b[1;34m\"bar\"\u001b[0m\u001b[1;33m,\u001b[0m\u001b[1;34m\"r\"\u001b[0m\u001b[1;33m)\u001b[0m       \u001b[1;31m# Open a file for reading\u001b[0m\u001b[1;33m\u001b[0m\u001b[0m\n\u001b[0m",
      "\u001b[1;31mFileNotFoundError\u001b[0m: [Errno 2] No such file or directory: 'bar'"
     ]
    }
   ],
   "source": [
    "f = open(\"foo\",\"w\")       # Open a file for writing\n",
    "#g = open(\"\",\"r\")       # Open a file for reading"
   ]
  },
  {
   "cell_type": "code",
   "execution_count": 343,
   "metadata": {
    "collapsed": false
   },
   "outputs": [],
   "source": [
    "f.write(\"Hello World\")\n",
    "#data = g.read()              # Read all data\n",
    "#line = g.readline()          # Read a single line\n",
    "#lines = g.readlines()  \n",
    "f.close()\n",
    "# Read data as a list of lines"
   ]
  },
  {
   "cell_type": "markdown",
   "metadata": {},
   "source": [
    "#### Formatted output"
   ]
  },
  {
   "cell_type": "code",
   "execution_count": null,
   "metadata": {
    "collapsed": false
   },
   "outputs": [],
   "source": [
    "for i in range(0,10):\n",
    "    f.write(\"2 times %d = %d\\n\" % (i, 2*i))    # C printf-like formatting"
   ]
  },
  {
   "cell_type": "markdown",
   "metadata": {
    "collapsed": true
   },
   "source": [
    "#### Modules"
   ]
  },
  {
   "cell_type": "markdown",
   "metadata": {},
   "source": [
    "Large programs can be broken into modules"
   ]
  },
  {
   "cell_type": "code",
   "execution_count": null,
   "metadata": {
    "collapsed": true
   },
   "outputs": [],
   "source": [
    "# numbers.py\n",
    "def divide(a,b):\n",
    "    q = a/b\n",
    "    r = a - q*b\n",
    "    return q,r\n",
    "\n",
    "def gcd(x,y): g= y\n",
    "    while x > 0: \n",
    "        g = x\n",
    "        x = y%x\n",
    "        y = g \n",
    "    return g"
   ]
  },
  {
   "cell_type": "code",
   "execution_count": null,
   "metadata": {
    "collapsed": true
   },
   "outputs": [],
   "source": [
    "import numbers\n",
    "x,y = numbers.divide(42,5)\n",
    "n = numbers.gcd(7291823, 5683)"
   ]
  },
  {
   "cell_type": "markdown",
   "metadata": {},
   "source": [
    "* `import` statment creates a namespace and executes a file in it\n",
    "* all names accessible via `modulename.funcname`\n",
    "* could be _unwrapped_ to current namespace using `from .. import ..`"
   ]
  },
  {
   "cell_type": "code",
   "execution_count": null,
   "metadata": {
    "collapsed": true
   },
   "outputs": [],
   "source": [
    "from numbers import gcd, divide\n",
    "x,y = divide(42,5)\n",
    "n = gcd(7291823, 5683)"
   ]
  },
  {
   "cell_type": "markdown",
   "metadata": {},
   "source": [
    "#### Standard modules"
   ]
  },
  {
   "cell_type": "markdown",
   "metadata": {},
   "source": [
    "* Python comes pre-packaged with a large number of installed modules (Batteries Included)\n",
    "* Other modules can be downloaded/installed to be used by programs"
   ]
  },
  {
   "cell_type": "markdown",
   "metadata": {},
   "source": []
  }
 ],
 "metadata": {
  "kernelspec": {
   "display_name": "Python 3",
   "language": "python",
   "name": "python3"
  },
  "language_info": {
   "codemirror_mode": {
    "name": "ipython",
    "version": 3
   },
   "file_extension": ".py",
   "mimetype": "text/x-python",
   "name": "python",
   "nbconvert_exporter": "python",
   "pygments_lexer": "ipython3",
   "version": "3.5.1"
  }
 },
 "nbformat": 4,
 "nbformat_minor": 0
}
